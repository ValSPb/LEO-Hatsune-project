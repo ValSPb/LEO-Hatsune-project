{
 "cells": [
  {
   "cell_type": "markdown",
   "metadata": {},
   "source": [
    "## Comments to Hatsune's Jupyter notebook on focal length measurement\n",
    "\n",
    "Notebook outline:\n",
    "\n",
    "0. Useful Python resources\n",
    "1. General comments and recommendation regarding coding style\n",
    "2. Comments to individual screenshots\n",
    "3. Summary\n",
    "\n",
    "*Note:* since your English is fairly well, I highly recommend to use English-language resources (which are much more ubiquitous than in other languagues; besides English is the \"native\" language of the programming world). The programming vocabulary is relative small and easy to learn. I also urge you to write code comments in English."
   ]
  },
  {
   "cell_type": "markdown",
   "metadata": {},
   "source": [
    "### 0. Useful Python resources\n",
    "\n",
    "#### Documentation\n",
    "1. [Python documentation](https://docs.python.org/3/index.html)\\\n",
    "   [The Python Standard Library](https://docs.python.org/3/library/index.html)\\\n",
    "   [Built-in Functions](https://docs.python.org/3/library/functions.html)\n",
    "2. [NumPy documentation](https://numpy.org/doc/stable/index.html)\\\n",
    "   I particulary recommend to read [NumPy user guide](https://numpy.org/doc/stable/user/index.html#user),\n",
    "   at least [NumPy: the absolute basics for beginners](https://numpy.org/doc/stable/user/absolute_beginners.html)\n",
    "   and [NumPy fundamentals](https://numpy.org/doc/stable/user/basics.html)\n",
    "   (highly recommended though a bit more advanced is [Advanced NumPy](https://scipy-lectures.org/advanced/advanced_numpy/)).\\\n",
    "    The reference manual whcih details functions, modules, and objects included in NumPy, describing what they are and what they do: [NumPy Reference](https://numpy.org/doc/stable/reference/index.html#reference)\n",
    "3. [SciPy documentation](https://docs.scipy.org/doc/scipy/index.html)\n",
    "\n",
    "#### Online resources\n",
    "1. [Real Python Tutorials](https://realpython.com/) - highly useful, especially for beginners\n",
    "2. [Stack Oveflow](https://stackoverflow.com/) - should be used to find answers to coding (and other \"computational\") question instead of general search engines like Google, etc. (tough serching with Google often find answers at Stack Oveflow)\n",
    "3. Many Python online courses can be found on the MOOC platforms like [Coursera](https://www.coursera.org/),\n",
    "   [edX](https://www.edx.org/) and just on [YouTube](https://www.youtube.com/). Think about taking some free Python course for beginners.\\\n",
    "   For example: [Python for beginners](https://www.coursera.org/search?query=python%20for%20beginners&)\n",
    "   (I guess majority of the courses have Japanese subtitles)\n",
    "\n",
    "#### Books (there are a lot of books, I give  a reference just to one free book and to one printed book):\n",
    "1. [Python Notes for Professionals](https://www.dbooks.org/python-notes-for-professionals-5591650063/)\n",
    "   Don't be scared by the word \"Professionals\" - actually it is a detailed reference guide with a lot \n",
    "   of examples. I find it much more convenient to use than the Python documentation cited above.\n",
    "2. After you learn Python a bit more, you'll be able to enjoy reading this book:\\\n",
    "   Python Distilled by David Beazley (2021)   "
   ]
  },
  {
   "cell_type": "markdown",
   "metadata": {},
   "source": [
    "### General comments and recommendations regarding coding style\n",
    "\n",
    "The Python code conventions are summarized in [PEP 8 – Style Guide for Python Code](https://peps.python.org/pep-0008/#id26). Following these conventions greately improve code readability and simplify code writing.\n",
    "\n",
    "In relation to your code, I'd like to emphaisize a few basic conventions:\n",
    "1. [Whitespace in Expressions and Statements](https://peps.python.org/pep-0008/#whitespace-in-expressions-and-statements) - please read.\\\n",
    "   So, for example, \n",
    "   `par, cov = curve_fit(ff,dist_list,width_list,sigma=ey)` should be written as:\n",
    "   `par, cov = curve_fit(ff, dist_list, width_list, sigma=ey)`\\\n",
    "   If you start to follow this convention, after a while you'll notice that the code becomes easier to read and looking nicer; after a while this style will become your habbit.\n",
    "\n",
    "2. [Naming Conventions](https://peps.python.org/pep-0008/#naming-conventions) - please read.\n",
    "\n",
    "   * \"Function names should be lowercase, with words separated by underscores as necessary to improve readability. Variable names follow the same convention as function names.\"\\\n",
    "   So, try to avoid using uppercase letters in variable (and function) names unless it is absolutely neccessary.\n",
    "\n",
    "3. Use meaningful names for variable and functions. Names like 'ey' and 'ff' are not good - at the moment you\n",
    "   can remember that `ey` means \"error y\" and `ff` - \"fit function\", but will you easily recall that in 1 year?\n",
    "   And what about other people who may read your notebook?\\\n",
    "   So, instead `ey` you might use, for example, `yerr` or `y_err` (quite common names for such quantity),\n",
    "   and instead of `def ff(...)` you might use `def parabola(...)`, since it is not just some function which will be used for fitting, but specific function - quadratic; later you might want to fit your data by other function (e.g. cubic) and define another function: `def cubic(...)`.\\\n",
    "   The same is true for function parameters: instead of naming them `a, b, c` you could have named them `a` (=\"amlitude\"), `xmin`, `ymin` or (`x0` and `y0`) (since `a > 0` in your case, `b` and `c` are minimum x and y respectively; this suggestion is not very important for such a simple function, though generally it is better to give meaningful names to function parameters if they have specific meanings. \n",
    "   \n",
    "4. It is a bad practice to encode variable type in its name, so instead of  `dist_list` and `width_list` \n",
    "   you might use something like `distance` and `peak_width`\n",
    "   (it is a matter of personal taste, but since nowdays we do not have strick restrictions on the length of variable name, I often prefer to use full word rather than abbreviation unless the word is too long\n",
    "    or has the commonly used abbreviation).\n",
    "   \n",
    "   \n",
    "As concerns the code itself:\n",
    "1. Try using NumPy arrays instead of lists for numbers. They are much more efficient and powerful than lists.\\\n",
    "   So, isntead of `ey = [4]*len(width_list)` it is much better to write `yerr = np.full(len(peak_width), 4.0)`\n",
    "   (I wrote `4.0` to make this array of type `float`, another way of doing this is \n",
    "   `yerr = np.full(len(peak_width), 4, dtype=float)`\n",
    "   (see [Array creation](https://numpy.org/doc/stable/user/basics.creation.html) for more on methods to create arrays). I'll give more examples below while commening on individual screenshots.\n",
    "   \n",
    "2. Do not use the `math` module if you are already using NumPy, i.e. instead of `math.sqrt(...)` use `np.sqrt(...)`\n",
    "\n",
    "3. Use Python 3's f-Strings instead of old-style formatting: %-formatting and str.format().\n",
    "   So, instead of `print(\"chi2 = {:7.3f}\".format(chi2)` it is better to write \n",
    "   `print(f'chi2 = {chi2:7.3f}')` - it is more consise and easire to read \n",
    "   (BTW, why do you want `7.3f`? If you want just three decimal digits `print(f'chi2 = {chi2:.3f}')`)\n",
    "   Actually, this can be written even shorter: `print(f'{chi2 = :.3f}')`\\\n",
    "   You can reed more about Python 3's f-Strings for exmaple [here](https://realpython.com/python-f-strings/)}"
   ]
  },
  {
   "cell_type": "code",
   "execution_count": 1,
   "metadata": {},
   "outputs": [],
   "source": [
    "import numpy as np"
   ]
  },
  {
   "cell_type": "markdown",
   "metadata": {},
   "source": [
    "Using Python 3's f-Strings:"
   ]
  },
  {
   "cell_type": "code",
   "execution_count": 2,
   "metadata": {},
   "outputs": [
    {
     "name": "stdout",
     "output_type": "stream",
     "text": [
      "chi2 =  12.346\n"
     ]
    }
   ],
   "source": [
    "chi2 = 12.345678\n",
    "\n",
    "print(f'chi2 = {chi2:7.3f}')"
   ]
  },
  {
   "cell_type": "code",
   "execution_count": 3,
   "metadata": {},
   "outputs": [
    {
     "name": "stdout",
     "output_type": "stream",
     "text": [
      "chi2 = 12.346\n"
     ]
    }
   ],
   "source": [
    "# The shortest (preferable) way to output this:\n",
    "print(f'{chi2 = :.3f}')"
   ]
  },
  {
   "cell_type": "markdown",
   "metadata": {},
   "source": [
    "### Screenshot 1 - reading images\n",
    "\n",
    "This is lengthy and clumsy. \n",
    "\n",
    "Should be made much shorter."
   ]
  },
  {
   "cell_type": "code",
   "execution_count": 4,
   "metadata": {},
   "outputs": [
    {
     "data": {
      "text/plain": [
       "[4848,\n",
       " 4851,\n",
       " 4852,\n",
       " 4853,\n",
       " 4854,\n",
       " 4855,\n",
       " 4856,\n",
       " 4857,\n",
       " 4858,\n",
       " 4859,\n",
       " 4860,\n",
       " 4861,\n",
       " 4862,\n",
       " 4863,\n",
       " 4864]"
      ]
     },
     "execution_count": 4,
     "metadata": {},
     "output_type": "execute_result"
    }
   ],
   "source": [
    "# Create a list of image indices\n",
    "img_ind = [4848] + list(range(4851, 4865))   # line 1\n",
    "\n",
    "img_ind"
   ]
  },
  {
   "cell_type": "code",
   "execution_count": 5,
   "metadata": {},
   "outputs": [
    {
     "data": {
      "text/plain": [
       "['IMG_4848.CR3',\n",
       " 'IMG_4851.CR3',\n",
       " 'IMG_4852.CR3',\n",
       " 'IMG_4853.CR3',\n",
       " 'IMG_4854.CR3',\n",
       " 'IMG_4855.CR3',\n",
       " 'IMG_4856.CR3',\n",
       " 'IMG_4857.CR3',\n",
       " 'IMG_4858.CR3',\n",
       " 'IMG_4859.CR3',\n",
       " 'IMG_4860.CR3',\n",
       " 'IMG_4861.CR3',\n",
       " 'IMG_4862.CR3',\n",
       " 'IMG_4863.CR3',\n",
       " 'IMG_4864.CR3']"
      ]
     },
     "execution_count": 5,
     "metadata": {},
     "output_type": "execute_result"
    }
   ],
   "source": [
    "# Create a list of image file names (use List Comprehension)\n",
    "img_fnames = [f'IMG_{index}.CR3' for index in img_ind]   # line 2\n",
    "\n",
    "img_fnames"
   ]
  },
  {
   "cell_type": "code",
   "execution_count": null,
   "metadata": {},
   "outputs": [],
   "source": [
    "# Read images into a list\n",
    "rgb = []   # line 3\n",
    "\n",
    "for img in img_fnames:   # line 4 \n",
    "    with rawpy.imgread(img) as raw:    # line 5 \n",
    "        rgb.append(raw.reprocessed(gamma=(1, 1), no_auto_bright=True, output_bps=16))  # line 6"
   ]
  },
  {
   "cell_type": "markdown",
   "metadata": {},
   "source": [
    "So, all reading took just 6 lines of code.\n",
    "\n",
    "\n",
    "Actually, since each image corresponds some shift (-25 mm, -20 mm, ..., +25 mm) it might be more convenient to read the images into a dictionary, rather then into a list:"
   ]
  },
  {
   "cell_type": "code",
   "execution_count": 6,
   "metadata": {},
   "outputs": [
    {
     "data": {
      "text/plain": [
       "[-25, -20, -15, -10, -5, -4, -2, 0, 2, 4, 5, 10, 15, 20, 25]"
      ]
     },
     "execution_count": 6,
     "metadata": {},
     "output_type": "execute_result"
    }
   ],
   "source": [
    "# Create a list of shifts:\n",
    "# -25, -20, .., -5, -4, -2, ... 4, 5, 10, ... 25\n",
    "shifts = list(range(-25, 0, 5)) + list(range(-4, 6, 2)) + list(range(5, 30, 5))\n",
    "\n",
    "shifts"
   ]
  },
  {
   "cell_type": "code",
   "execution_count": 7,
   "metadata": {},
   "outputs": [
    {
     "data": {
      "text/plain": [
       "{-25: 'IMG_4848.CR3',\n",
       " -20: 'IMG_4851.CR3',\n",
       " -15: 'IMG_4852.CR3',\n",
       " -10: 'IMG_4853.CR3',\n",
       " -5: 'IMG_4854.CR3',\n",
       " -4: 'IMG_4855.CR3',\n",
       " -2: 'IMG_4856.CR3',\n",
       " 0: 'IMG_4857.CR3',\n",
       " 2: 'IMG_4858.CR3',\n",
       " 4: 'IMG_4859.CR3',\n",
       " 5: 'IMG_4860.CR3',\n",
       " 10: 'IMG_4861.CR3',\n",
       " 15: 'IMG_4862.CR3',\n",
       " 20: 'IMG_4863.CR3',\n",
       " 25: 'IMG_4864.CR3'}"
      ]
     },
     "execution_count": 7,
     "metadata": {},
     "output_type": "execute_result"
    }
   ],
   "source": [
    "# Match the shifts and images:\n",
    "# create a dictionary of image file names (use Dictionary Comprehension)\n",
    "img_fnames = {key: f'IMG_{index}.CR3' for key, index in zip(shifts, img_ind)}\n",
    "\n",
    "img_fnames"
   ]
  },
  {
   "cell_type": "markdown",
   "metadata": {},
   "source": [
    "As, you can see now that for each shift (that is a key in our dictionary) we have correspnding file name,\n",
    "so we can easily get the name corresponding a given shift:"
   ]
  },
  {
   "cell_type": "code",
   "execution_count": 8,
   "metadata": {},
   "outputs": [
    {
     "data": {
      "text/plain": [
       "'IMG_4859.CR3'"
      ]
     },
     "execution_count": 8,
     "metadata": {},
     "output_type": "execute_result"
    }
   ],
   "source": [
    "# Get a file name for shift = 4\n",
    "img_fnames[4]"
   ]
  },
  {
   "cell_type": "markdown",
   "metadata": {},
   "source": [
    "*Note:* we can add 'mm' to keys, so they will become strings rather than numbers:"
   ]
  },
  {
   "cell_type": "code",
   "execution_count": 9,
   "metadata": {},
   "outputs": [
    {
     "data": {
      "text/plain": [
       "{'-25mm': 'IMG_4848.CR3',\n",
       " '-20mm': 'IMG_4851.CR3',\n",
       " '-15mm': 'IMG_4852.CR3',\n",
       " '-10mm': 'IMG_4853.CR3',\n",
       " '-5mm': 'IMG_4854.CR3',\n",
       " '-4mm': 'IMG_4855.CR3',\n",
       " '-2mm': 'IMG_4856.CR3',\n",
       " '0mm': 'IMG_4857.CR3',\n",
       " '2mm': 'IMG_4858.CR3',\n",
       " '4mm': 'IMG_4859.CR3',\n",
       " '5mm': 'IMG_4860.CR3',\n",
       " '10mm': 'IMG_4861.CR3',\n",
       " '15mm': 'IMG_4862.CR3',\n",
       " '20mm': 'IMG_4863.CR3',\n",
       " '25mm': 'IMG_4864.CR3'}"
      ]
     },
     "execution_count": 9,
     "metadata": {},
     "output_type": "execute_result"
    }
   ],
   "source": [
    "# Match the shifts and images:\n",
    "# create a dictionary of image file names (use Dictionary Comprehension)\n",
    "img_fnames = {f'{key}mm': f'IMG_{index}.CR3' for key, index in zip(shifts, img_ind)}\n",
    "\n",
    "img_fnames"
   ]
  },
  {
   "cell_type": "code",
   "execution_count": 10,
   "metadata": {},
   "outputs": [
    {
     "data": {
      "text/plain": [
       "'IMG_4859.CR3'"
      ]
     },
     "execution_count": 10,
     "metadata": {},
     "output_type": "execute_result"
    }
   ],
   "source": [
    "img_fnames['4mm']"
   ]
  },
  {
   "cell_type": "code",
   "execution_count": null,
   "metadata": {},
   "outputs": [],
   "source": [
    "# So now we can read images into a dictionary:\n",
    "rgb = {}\n",
    "\n",
    "for shift, img_file in img_fnames.items():\n",
    "    with rawpy.imgread(img) as raw:\n",
    "        rgb[shift] = raw.reprocessed(gamma=(1, 1), no_auto_bright=True, output_bps=16)"
   ]
  },
  {
   "cell_type": "markdown",
   "metadata": {},
   "source": [
    "What is more convenient - list or dictionary depends on how these images will be further processed."
   ]
  },
  {
   "cell_type": "markdown",
   "metadata": {},
   "source": [
    "### Screenshot 2 - making image plots\n",
    "\n",
    "Again, this is lengthy and clumsy.\n",
    "\n",
    "Should be made much shorter and clearer.\n",
    "\n",
    "Here we assume that images haven been read into a list `rgb`"
   ]
  },
  {
   "cell_type": "markdown",
   "metadata": {},
   "source": [
    "All your `G_1.append(...)` lines should be replaced by just one:"
   ]
  },
  {
   "cell_type": "code",
   "execution_count": null,
   "metadata": {},
   "outputs": [],
   "source": [
    "# Create a list of Green channels of the images\n",
    "# Note: please choose a name you like, but meaningful (maybe `green_img`)\n",
    "green_chan = [img[:, :, 1] for img in rgb]"
   ]
  },
  {
   "cell_type": "markdown",
   "metadata": {},
   "source": [
    "To plot the images you should loop over sequence directly rather than using \n",
    "`for i in range(..)` and than referrering the sequence element by index `..[i]`:"
   ]
  },
  {
   "cell_type": "code",
   "execution_count": null,
   "metadata": {},
   "outputs": [],
   "source": [
    "# To plot the images\n",
    "for img in green_chan:\n",
    "    ...\n",
    "    plt.imshow(img, cmap='gray', norm=LogNorm())\n",
    "\n",
    "# Note: LogNorm() intialize an onject of the LogNorm class; since we need just one such object\n",
    "# it is better no initialize it before the loop:\n",
    "norm = LogNorm()\n",
    "\n",
    "for img in green_chan:\n",
    "    ...\n",
    "    plt.imshow(img, cmap='gray', norm=norm)\n",
    "\n",
    "    "
   ]
  },
  {
   "cell_type": "markdown",
   "metadata": {},
   "source": [
    "Much better way to make a list of plot titles:"
   ]
  },
  {
   "cell_type": "code",
   "execution_count": 11,
   "metadata": {},
   "outputs": [],
   "source": [
    "# Note: there is no need to write '.0' but it is an old habbit to distinguish float variables from integers\n",
    "# (if you write `ref_leo = 671` the variable `ref_leo` will be of `int` type )\n",
    "ref_leo = 671.0  # mm\n",
    "ref = ref_leo - 311.0 + 2.4 + 0.3  # mm"
   ]
  },
  {
   "cell_type": "code",
   "execution_count": 12,
   "metadata": {},
   "outputs": [
    {
     "data": {
      "text/plain": [
       "int"
      ]
     },
     "execution_count": 12,
     "metadata": {},
     "output_type": "execute_result"
    }
   ],
   "source": [
    "# just to show the type thing\n",
    "tmp = 617\n",
    "\n",
    "type(tmp)"
   ]
  },
  {
   "cell_type": "code",
   "execution_count": 13,
   "metadata": {},
   "outputs": [
    {
     "data": {
      "text/plain": [
       "['337.7 mm',\n",
       " '342.7 mm',\n",
       " '347.7 mm',\n",
       " '352.7 mm',\n",
       " '357.7 mm',\n",
       " '358.7 mm',\n",
       " '360.7 mm',\n",
       " '362.7 mm',\n",
       " '364.7 mm',\n",
       " '366.7 mm',\n",
       " '367.7 mm',\n",
       " '372.7 mm',\n",
       " '377.7 mm',\n",
       " '382.7 mm',\n",
       " '387.7 mm']"
      ]
     },
     "execution_count": 13,
     "metadata": {},
     "output_type": "execute_result"
    }
   ],
   "source": [
    "# Here we use the list of shifts `shifts` created above:\n",
    "plot_titles = [f'{ref + shift :.1f} mm' for shift in shifts]\n",
    "\n",
    "plot_titles"
   ]
  },
  {
   "cell_type": "markdown",
   "metadata": {},
   "source": [
    "### Screenshot 3 - making histogramms¶"
   ]
  },
  {
   "cell_type": "markdown",
   "metadata": {},
   "source": [
    "Again, you don't need a loop using range - loop directly over the sequence:"
   ]
  },
  {
   "cell_type": "code",
   "execution_count": null,
   "metadata": {},
   "outputs": [],
   "source": [
    "# Instead of `G_sgr=[G_1[i][y1:y2, x1:x2] for i in range(len(G_1))]\n",
    "# (now `G_1` is `green_chan`)\n",
    "# Choose the image central part:\n",
    "img_center = [img[y1:y2, x1:x2] for img in green_chan]"
   ]
  },
  {
   "cell_type": "markdown",
   "metadata": {},
   "source": [
    "Make the plots as shown in the previous section ('Screensot 3')."
   ]
  },
  {
   "cell_type": "markdown",
   "metadata": {},
   "source": [
    "### Screenshot 4 - making X-projections¶\n",
    "\n",
    "Use the methods given above."
   ]
  },
  {
   "cell_type": "code",
   "execution_count": null,
   "metadata": {},
   "outputs": [],
   "source": [
    "# Instead of `X_Prj = ...`\n",
    "# image projections on X-axis:\n",
    "img_x = [np.sum(img, axis=0) for img in img_center]"
   ]
  },
  {
   "cell_type": "code",
   "execution_count": 14,
   "metadata": {},
   "outputs": [],
   "source": [
    "# This is just ugly:\n",
    "# for in in range(len(X_prj[1])):\n",
    "#    X_prj_axis.append(i+x1)\n",
    "\n",
    "# Create xscale:\n",
    "x1 = 2100\n",
    "x2 = 2800\n",
    "\n",
    "x = np.arange(x1, x2)"
   ]
  },
  {
   "cell_type": "code",
   "execution_count": 15,
   "metadata": {},
   "outputs": [
    {
     "data": {
      "text/plain": [
       "array([2100, 2101, 2102, 2103, 2104, 2105, 2106, 2107, 2108, 2109])"
      ]
     },
     "execution_count": 15,
     "metadata": {},
     "output_type": "execute_result"
    }
   ],
   "source": [
    "# Just look at the first 10 points\n",
    "x[:10]"
   ]
  },
  {
   "cell_type": "code",
   "execution_count": 16,
   "metadata": {},
   "outputs": [
    {
     "data": {
      "text/plain": [
       "array([2790, 2791, 2792, 2793, 2794, 2795, 2796, 2797, 2798, 2799])"
      ]
     },
     "execution_count": 16,
     "metadata": {},
     "output_type": "execute_result"
    }
   ],
   "source": [
    "# Look at the last 10 points\n",
    "x[-10:]"
   ]
  },
  {
   "cell_type": "code",
   "execution_count": 17,
   "metadata": {},
   "outputs": [
    {
     "data": {
      "text/plain": [
       "700"
      ]
     },
     "execution_count": 17,
     "metadata": {},
     "output_type": "execute_result"
    }
   ],
   "source": [
    "len(x)"
   ]
  },
  {
   "cell_type": "code",
   "execution_count": null,
   "metadata": {},
   "outputs": [],
   "source": [
    "# Check that the length of X-projections equals to the length of `x`\n",
    "# (just to be sure - they must be the same by design)\n",
    "len(img_x[0]) == len(x)"
   ]
  },
  {
   "cell_type": "markdown",
   "metadata": {},
   "source": [
    "Make the plots as shown in the section 'Screensot 3'."
   ]
  },
  {
   "cell_type": "markdown",
   "metadata": {},
   "source": [
    "### Screenshot 5 - binning¶\n",
    "\n",
    "This is done in an ansolutely wrong manner (in an ineffificent, C-like style using loops).\\\n",
    "**NumPy must be used!**\n",
    "\n",
    "*Note: I do not see much use in such a binning for your task*"
   ]
  },
  {
   "cell_type": "code",
   "execution_count": 18,
   "metadata": {},
   "outputs": [],
   "source": [
    "# Number of bins to sum over\n",
    "nbins = 4"
   ]
  },
  {
   "cell_type": "code",
   "execution_count": null,
   "metadata": {},
   "outputs": [],
   "source": [
    "img_x_binned = [np.sum(img.reshape(-1, nbins), axis=1) for img in img_x]"
   ]
  },
  {
   "cell_type": "markdown",
   "metadata": {},
   "source": [
    "Explanation for the code above. The most efficient way of rebinning is to create a new dimension and summing over it:"
   ]
  },
  {
   "cell_type": "code",
   "execution_count": 19,
   "metadata": {},
   "outputs": [
    {
     "data": {
      "text/plain": [
       "array([0, 1, 2, 3, 4, 5, 6, 7])"
      ]
     },
     "execution_count": 19,
     "metadata": {},
     "output_type": "execute_result"
    }
   ],
   "source": [
    "a = np.arange(8)\n",
    "\n",
    "a"
   ]
  },
  {
   "cell_type": "code",
   "execution_count": 20,
   "metadata": {},
   "outputs": [
    {
     "data": {
      "text/plain": [
       "array([[0, 1, 2, 3],\n",
       "       [4, 5, 6, 7]])"
      ]
     },
     "execution_count": 20,
     "metadata": {},
     "output_type": "execute_result"
    }
   ],
   "source": [
    "# Now let's rebin this array by summing over 4 elements.\n",
    "# First: reshape it to (2, 4):\n",
    "b = a.reshape(-1, 4)  # '-1' tells to automatically compute the first dimension\n",
    "\n",
    "b"
   ]
  },
  {
   "cell_type": "code",
   "execution_count": 21,
   "metadata": {},
   "outputs": [
    {
     "data": {
      "text/plain": [
       "(2, 4)"
      ]
     },
     "execution_count": 21,
     "metadata": {},
     "output_type": "execute_result"
    }
   ],
   "source": [
    "b.shape"
   ]
  },
  {
   "cell_type": "code",
   "execution_count": 22,
   "metadata": {},
   "outputs": [
    {
     "data": {
      "text/plain": [
       "array([ 6, 22])"
      ]
     },
     "execution_count": 22,
     "metadata": {},
     "output_type": "execute_result"
    }
   ],
   "source": [
    "# Second: sum over rows (axis=1) of the `b`:\n",
    "np.sum(b, axis=1)"
   ]
  },
  {
   "cell_type": "code",
   "execution_count": 23,
   "metadata": {},
   "outputs": [
    {
     "data": {
      "text/plain": [
       "array([ 6, 22])"
      ]
     },
     "execution_count": 23,
     "metadata": {},
     "output_type": "execute_result"
    }
   ],
   "source": [
    "# Just in a single line of code:\n",
    "np.sum(a.reshape(-1, nbins), axis=1)"
   ]
  },
  {
   "cell_type": "markdown",
   "metadata": {},
   "source": [
    "*Note:* this method works when the length of the array is divisible by `nbins`, so the array can be reshaped:"
   ]
  },
  {
   "cell_type": "code",
   "execution_count": 24,
   "metadata": {},
   "outputs": [
    {
     "ename": "ValueError",
     "evalue": "cannot reshape array of size 8 into shape (3)",
     "output_type": "error",
     "traceback": [
      "\u001b[0;31m---------------------------------------------------------------------------\u001b[0m",
      "\u001b[0;31mValueError\u001b[0m                                Traceback (most recent call last)",
      "\u001b[0;32m<ipython-input-24-7ee5067501f0>\u001b[0m in \u001b[0;36m<module>\u001b[0;34m\u001b[0m\n\u001b[1;32m      1\u001b[0m \u001b[0;31m# This will NOT work:\u001b[0m\u001b[0;34m\u001b[0m\u001b[0;34m\u001b[0m\u001b[0;34m\u001b[0m\u001b[0m\n\u001b[1;32m      2\u001b[0m \u001b[0;31m# (for exmaple. we would like to sum over 3 bins)\u001b[0m\u001b[0;34m\u001b[0m\u001b[0;34m\u001b[0m\u001b[0;34m\u001b[0m\u001b[0m\n\u001b[0;32m----> 3\u001b[0;31m \u001b[0ma\u001b[0m\u001b[0;34m.\u001b[0m\u001b[0mreshape\u001b[0m\u001b[0;34m(\u001b[0m\u001b[0;34m-\u001b[0m\u001b[0;36m1\u001b[0m\u001b[0;34m,\u001b[0m \u001b[0;36m3\u001b[0m\u001b[0;34m)\u001b[0m\u001b[0;34m\u001b[0m\u001b[0;34m\u001b[0m\u001b[0m\n\u001b[0m",
      "\u001b[0;31mValueError\u001b[0m: cannot reshape array of size 8 into shape (3)"
     ]
    }
   ],
   "source": [
    "# This will NOT work:\n",
    "# (for exmaple. we would like to sum over 3 bins)\n",
    "a.reshape(-1, 3)"
   ]
  },
  {
   "cell_type": "code",
   "execution_count": 25,
   "metadata": {},
   "outputs": [
    {
     "data": {
      "text/plain": [
       "6"
      ]
     },
     "execution_count": 25,
     "metadata": {},
     "output_type": "execute_result"
    }
   ],
   "source": [
    "# In such a case we might want at first to shrink the array (truncate several first or last elements).\n",
    "# For example, this gives the maximum number divisible by 3 less than the array length:\n",
    "n = 3 * (len(a) // 3)\n",
    "\n",
    "n"
   ]
  },
  {
   "cell_type": "code",
   "execution_count": 26,
   "metadata": {},
   "outputs": [
    {
     "data": {
      "text/plain": [
       "array([[0, 1, 2],\n",
       "       [3, 4, 5]])"
      ]
     },
     "execution_count": 26,
     "metadata": {},
     "output_type": "execute_result"
    }
   ],
   "source": [
    "# Then we can reshape by keeping first n-elements (removing the last (len(a) % 3) elements)\n",
    "a[:n].reshape(-1, 3)"
   ]
  },
  {
   "cell_type": "code",
   "execution_count": 27,
   "metadata": {},
   "outputs": [
    {
     "data": {
      "text/plain": [
       "array([ 3, 12])"
      ]
     },
     "execution_count": 27,
     "metadata": {},
     "output_type": "execute_result"
    }
   ],
   "source": [
    "# Now we can sum in a single line of code:\n",
    "np.sum(a[:n].reshape(-1, 3), axis=1)"
   ]
  },
  {
   "cell_type": "markdown",
   "metadata": {},
   "source": [
    "To make xscale:"
   ]
  },
  {
   "cell_type": "code",
   "execution_count": 28,
   "metadata": {},
   "outputs": [
    {
     "data": {
      "text/plain": [
       "(array([2100, 2104, 2108, 2112, 2116]), array([2780, 2784, 2788, 2792, 2796]))"
      ]
     },
     "execution_count": 28,
     "metadata": {},
     "output_type": "execute_result"
    }
   ],
   "source": [
    "x_binned = np.arange(x1, x2, nbins)\n",
    "\n",
    "x_binned[:5], x_binned[-5:]"
   ]
  },
  {
   "cell_type": "code",
   "execution_count": null,
   "metadata": {},
   "outputs": [],
   "source": [
    "# Check that the length of rebinned X-projections equals to the length of `x_rebinned`\n",
    "# (just to be sure - they must be the same by design)\n",
    "len(img_x_binned[0]) == len(x_binned)"
   ]
  },
  {
   "cell_type": "markdown",
   "metadata": {},
   "source": [
    "Make the plots as shown in the section 'Screensot 3'."
   ]
  },
  {
   "cell_type": "markdown",
   "metadata": {},
   "source": [
    "### Screenshot 6 - cumulative plots¶\n",
    "\n",
    "Again, this is done in an ansolutely wrong manner (in an ineffificent, C-like style using loops).\\\n",
    "**NumPy must be used!**\n",
    "\n",
    "*Note:* the word \"cumulative\" is spelled with 'l' (not 'r') (I know that the 'l' and 'r' sounds are often confused in Japanese.)"
   ]
  },
  {
   "cell_type": "code",
   "execution_count": null,
   "metadata": {},
   "outputs": [],
   "source": [
    "max_idx = [np.argmax(img) for img in img_x_binned]\n",
    "max_val = [img_x_binned[imax] for imax in max_idx]"
   ]
  },
  {
   "cell_type": "code",
   "execution_count": null,
   "metadata": {},
   "outputs": [],
   "source": [
    "# Make a list of cumulative X-projections\n",
    "cum_img_x_binned = [np.cumsum(img) for img in img_x_binned]"
   ]
  },
  {
   "cell_type": "code",
   "execution_count": 29,
   "metadata": {
    "scrolled": true
   },
   "outputs": [
    {
     "name": "stdout",
     "output_type": "stream",
     "text": [
      "Help on function cumsum in module numpy:\n",
      "\n",
      "cumsum(a, axis=None, dtype=None, out=None)\n",
      "    Return the cumulative sum of the elements along a given axis.\n",
      "    \n",
      "    Parameters\n",
      "    ----------\n",
      "    a : array_like\n",
      "        Input array.\n",
      "    axis : int, optional\n",
      "        Axis along which the cumulative sum is computed. The default\n",
      "        (None) is to compute the cumsum over the flattened array.\n",
      "    dtype : dtype, optional\n",
      "        Type of the returned array and of the accumulator in which the\n",
      "        elements are summed.  If `dtype` is not specified, it defaults\n",
      "        to the dtype of `a`, unless `a` has an integer dtype with a\n",
      "        precision less than that of the default platform integer.  In\n",
      "        that case, the default platform integer is used.\n",
      "    out : ndarray, optional\n",
      "        Alternative output array in which to place the result. It must\n",
      "        have the same shape and buffer length as the expected output\n",
      "        but the type will be cast if necessary. See `ufuncs-output-type` for\n",
      "        more details.\n",
      "    \n",
      "    Returns\n",
      "    -------\n",
      "    cumsum_along_axis : ndarray.\n",
      "        A new array holding the result is returned unless `out` is\n",
      "        specified, in which case a reference to `out` is returned. The\n",
      "        result has the same size as `a`, and the same shape as `a` if\n",
      "        `axis` is not None or `a` is a 1-d array.\n",
      "    \n",
      "    \n",
      "    See Also\n",
      "    --------\n",
      "    sum : Sum array elements.\n",
      "    \n",
      "    trapz : Integration of array values using the composite trapezoidal rule.\n",
      "    \n",
      "    diff :  Calculate the n-th discrete difference along given axis.\n",
      "    \n",
      "    Notes\n",
      "    -----\n",
      "    Arithmetic is modular when using integer types, and no error is\n",
      "    raised on overflow.\n",
      "    \n",
      "    Examples\n",
      "    --------\n",
      "    >>> a = np.array([[1,2,3], [4,5,6]])\n",
      "    >>> a\n",
      "    array([[1, 2, 3],\n",
      "           [4, 5, 6]])\n",
      "    >>> np.cumsum(a)\n",
      "    array([ 1,  3,  6, 10, 15, 21])\n",
      "    >>> np.cumsum(a, dtype=float)     # specifies type of output value(s)\n",
      "    array([  1.,   3.,   6.,  10.,  15.,  21.])\n",
      "    \n",
      "    >>> np.cumsum(a,axis=0)      # sum over rows for each of the 3 columns\n",
      "    array([[1, 2, 3],\n",
      "           [5, 7, 9]])\n",
      "    >>> np.cumsum(a,axis=1)      # sum over columns for each of the 2 rows\n",
      "    array([[ 1,  3,  6],\n",
      "           [ 4,  9, 15]])\n",
      "\n"
     ]
    }
   ],
   "source": [
    "# See the description of `np.cumsum`:\n",
    "help(np.cumsum)"
   ]
  },
  {
   "cell_type": "markdown",
   "metadata": {},
   "source": [
    "**As an exercise, try to rewrite the remaining part of this part in a concise manner using NumPy, List Comprehension, and looping over a sequence as has been shown above.**\\\n",
    "You'll possibly need to consult with the NumPy references given in the begging of this notebook."
   ]
  },
  {
   "cell_type": "markdown",
   "metadata": {},
   "source": [
    "### Screenshot 7-11  - fitting¶\n",
    "\n",
    "I'll provide comments just to the first (screenshot 7) screenshots, since the remaing are similar.\n",
    "\n",
    "As already written in the General comments - use arrays with meaningfull names\n",
    "(here I use plular nouns for variable names - it is more convenient for me)"
   ]
  },
  {
   "cell_type": "code",
   "execution_count": 30,
   "metadata": {},
   "outputs": [
    {
     "data": {
      "text/plain": [
       "array([337.7, 342.7, 347.7, 352.7, 357.7, 358.7, 360.7, 362.7, 364.7,\n",
       "       366.7, 367.7, 372.7, 377.7, 382.7, 387.7])"
      ]
     },
     "execution_count": 30,
     "metadata": {},
     "output_type": "execute_result"
    }
   ],
   "source": [
    "# Instead of `dist_list`:\n",
    "distances = ref + np.array(shifts)\n",
    "\n",
    "distances"
   ]
  },
  {
   "cell_type": "code",
   "execution_count": null,
   "metadata": {},
   "outputs": [],
   "source": [
    "# Since I do not see where `width_list_x` was created, I just convert it to an NumPy array\n",
    "# (likley `width_list_x` can be created as an array)\n",
    "peak_widths = np.array(width_list_x)  "
   ]
  },
  {
   "cell_type": "code",
   "execution_count": 31,
   "metadata": {},
   "outputs": [
    {
     "data": {
      "text/plain": [
       "array([4., 4., 4., 4., 4., 4., 4., 4., 4., 4., 4., 4., 4., 4., 4.])"
      ]
     },
     "execution_count": 31,
     "metadata": {},
     "output_type": "execute_result"
    }
   ],
   "source": [
    "# Instead of `ey = [4]*len(width_list)`\n",
    "# Note: it might be better to call this vaiable 'err_width'\n",
    "yerr = np.full(len(distances), 4.0)\n",
    "\n",
    "yerr"
   ]
  },
  {
   "cell_type": "code",
   "execution_count": 32,
   "metadata": {},
   "outputs": [
    {
     "data": {
      "text/plain": [
       "dtype('float64')"
      ]
     },
     "execution_count": 32,
     "metadata": {},
     "output_type": "execute_result"
    }
   ],
   "source": [
    "yerr.dtype"
   ]
  },
  {
   "cell_type": "code",
   "execution_count": 33,
   "metadata": {},
   "outputs": [
    {
     "data": {
      "text/plain": [
       "array([4., 4., 4., 4., 4., 4., 4., 4., 4., 4., 4., 4., 4., 4., 4.])"
      ]
     },
     "execution_count": 33,
     "metadata": {},
     "output_type": "execute_result"
    }
   ],
   "source": [
    "# Another way:\n",
    "yerr = np.full(len(distances), 4, dtype=float)\n",
    "\n",
    "yerr"
   ]
  },
  {
   "cell_type": "code",
   "execution_count": 34,
   "metadata": {},
   "outputs": [
    {
     "data": {
      "text/plain": [
       "dtype('float64')"
      ]
     },
     "execution_count": 34,
     "metadata": {},
     "output_type": "execute_result"
    }
   ],
   "source": [
    "yerr.dtype"
   ]
  },
  {
   "cell_type": "code",
   "execution_count": 35,
   "metadata": {},
   "outputs": [
    {
     "data": {
      "text/plain": [
       "array([4., 4., 4., 4., 4., 4., 4., 4., 4., 4., 4., 4., 4., 4., 4.])"
      ]
     },
     "execution_count": 35,
     "metadata": {},
     "output_type": "execute_result"
    }
   ],
   "source": [
    "# Third way (this way uses the same shape and dtype as a given array):\n",
    "yerr = np.full_like(distances, 4)\n",
    "\n",
    "yerr"
   ]
  },
  {
   "cell_type": "code",
   "execution_count": null,
   "metadata": {},
   "outputs": [],
   "source": [
    "# Here we use `parabola` name for the fitting function instead of `ff`\n",
    "par, cov = curve_fit(parabola, distances, peak_widths, sigma=yerr)"
   ]
  },
  {
   "cell_type": "markdown",
   "metadata": {},
   "source": [
    "**Use unpacking!**"
   ]
  },
  {
   "cell_type": "code",
   "execution_count": null,
   "metadata": {},
   "outputs": [],
   "source": [
    "# Instead of `ff(dist_list,par[0],par[1],par[2])` use `ff(dist_list, *par)`\n",
    "# (imagine how you would write this if you have 20 parameters)\n",
    "\n",
    "# Compute chi2:\n",
    "# (do not pack everything in one line, split in logical steps)\n",
    "model_peak_widths = parabola(distances, *par)\n",
    "residuals = model_peak_widths - peak_widths\n",
    "\n",
    "chi2 = np.sum((residuals / yerr)**2)"
   ]
  },
  {
   "cell_type": "code",
   "execution_count": null,
   "metadata": {},
   "outputs": [],
   "source": [
    "# Compute the number of degrees of freedom\n",
    "ndof = len(distances) - len(par)\n",
    "\n",
    "ndof"
   ]
  },
  {
   "cell_type": "markdown",
   "metadata": {},
   "source": [
    "**Estimate goodness of the fit!**"
   ]
  },
  {
   "cell_type": "code",
   "execution_count": 36,
   "metadata": {},
   "outputs": [
    {
     "data": {
      "text/plain": [
       "0.13823302337992296"
      ]
     },
     "execution_count": 36,
     "metadata": {},
     "output_type": "execute_result"
    }
   ],
   "source": [
    "from scipy import stats\n",
    "\n",
    "# I directly assign the values here to compute the goodness of the fit\n",
    "ndof = 12\n",
    "chi2 = 17.312\n",
    "\n",
    "# Use Survival function of the `chi2` distribution to compute \n",
    "# the probability to have chi2 greater than the obtained one for the given number of degrees of freedom\n",
    "prob = stats.chi2.sf(chi2, ndof)\n",
    "\n",
    "prob"
   ]
  },
  {
   "cell_type": "markdown",
   "metadata": {},
   "source": [
    "So, the probability (=the goodness of fit) is not very good, but quite acceptable."
   ]
  },
  {
   "cell_type": "markdown",
   "metadata": {},
   "source": [
    "As I suggested, derive fits using a subset of the points; for example exclude the first and last points:"
   ]
  },
  {
   "cell_type": "code",
   "execution_count": null,
   "metadata": {},
   "outputs": [],
   "source": [
    "distances2 = distances[1: -1]\n",
    "peak_width2 = peak_widths[1: -1]\n",
    "yerr2 = yerr[1: -1]\n",
    "\n",
    "# Better way to slice these arrays\n",
    "s = slice(1, -1)\n",
    "\n",
    "distances2 = distances[s]\n",
    "peak_width2 = peak_widths[s]\n",
    "yerr2 = yerr[s]\n",
    "\n",
    "par2, cov2 = curve_fit(parabola, distances2, peak_widths2, sigma=yerr2)\n",
    "\n",
    "# Even more concise without creating additional arrays 9which are actually 'views'):\n",
    "s = slice(1, -1)\n",
    "par2, cov2 = curve_fit(parabola, distances[s], peak_widths[s], sigma=yerr[s])"
   ]
  },
  {
   "cell_type": "code",
   "execution_count": 40,
   "metadata": {},
   "outputs": [
    {
     "data": {
      "text/plain": [
       "slice(1, -1, None)"
      ]
     },
     "execution_count": 40,
     "metadata": {},
     "output_type": "execute_result"
    }
   ],
   "source": [
    "# What is slice?\n",
    "s = slice(1, -1)\n",
    "\n",
    "s"
   ]
  },
  {
   "cell_type": "code",
   "execution_count": 41,
   "metadata": {},
   "outputs": [
    {
     "data": {
      "text/plain": [
       "array([0, 1, 2, 3, 4])"
      ]
     },
     "execution_count": 41,
     "metadata": {},
     "output_type": "execute_result"
    }
   ],
   "source": [
    "a = np.arange(5)\n",
    "\n",
    "a"
   ]
  },
  {
   "cell_type": "code",
   "execution_count": 42,
   "metadata": {},
   "outputs": [
    {
     "data": {
      "text/plain": [
       "array([1, 2, 3])"
      ]
     },
     "execution_count": 42,
     "metadata": {},
     "output_type": "execute_result"
    }
   ],
   "source": [
    "a[s]"
   ]
  },
  {
   "cell_type": "markdown",
   "metadata": {},
   "source": [
    "After fitting look at the result, estimate the goodness of fit."
   ]
  },
  {
   "cell_type": "markdown",
   "metadata": {},
   "source": [
    "### Summary\n",
    "\n",
    "* Learn basic of Python and NumPy\n",
    "* Use basic Python techniques like looping over sequence, unpacking, f-strings, list and dictionary comprehension, etc. \n",
    "* Use numpy arrays and a large variety of NumPy/SciPy built-in array methods and functions (instead of trying implement them by yourself from scratch)\n",
    "* Do NOT use the `math` module (if you use NumPy)\n",
    "* Do not copy-past code from unreliable internet sources (such code is often old, inefficient or event plainly wrong)\n",
    "* Try to write clear, consice, efficient, Pythonic(!) code\n",
    "* Write comments (this is a big separate topic by its own)"
   ]
  },
  {
   "cell_type": "markdown",
   "metadata": {},
   "source": [
    "Please, read:"
   ]
  },
  {
   "cell_type": "code",
   "execution_count": 43,
   "metadata": {},
   "outputs": [
    {
     "name": "stdout",
     "output_type": "stream",
     "text": [
      "The Zen of Python, by Tim Peters\n",
      "\n",
      "Beautiful is better than ugly.\n",
      "Explicit is better than implicit.\n",
      "Simple is better than complex.\n",
      "Complex is better than complicated.\n",
      "Flat is better than nested.\n",
      "Sparse is better than dense.\n",
      "Readability counts.\n",
      "Special cases aren't special enough to break the rules.\n",
      "Although practicality beats purity.\n",
      "Errors should never pass silently.\n",
      "Unless explicitly silenced.\n",
      "In the face of ambiguity, refuse the temptation to guess.\n",
      "There should be one-- and preferably only one --obvious way to do it.\n",
      "Although that way may not be obvious at first unless you're Dutch.\n",
      "Now is better than never.\n",
      "Although never is often better than *right* now.\n",
      "If the implementation is hard to explain, it's a bad idea.\n",
      "If the implementation is easy to explain, it may be a good idea.\n",
      "Namespaces are one honking great idea -- let's do more of those!\n"
     ]
    }
   ],
   "source": [
    "import this"
   ]
  },
  {
   "cell_type": "code",
   "execution_count": null,
   "metadata": {},
   "outputs": [],
   "source": []
  }
 ],
 "metadata": {
  "kernelspec": {
   "display_name": "Python 3",
   "language": "python",
   "name": "python3"
  },
  "language_info": {
   "codemirror_mode": {
    "name": "ipython",
    "version": 3
   },
   "file_extension": ".py",
   "mimetype": "text/x-python",
   "name": "python",
   "nbconvert_exporter": "python",
   "pygments_lexer": "ipython3",
   "version": "3.8.5"
  }
 },
 "nbformat": 4,
 "nbformat_minor": 4
}
